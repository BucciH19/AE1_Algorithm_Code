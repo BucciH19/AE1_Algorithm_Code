{
 "cells": [
  {
   "cell_type": "code",
   "execution_count": 12,
   "metadata": {},
   "outputs": [
    {
     "name": "stdout",
     "output_type": "stream",
     "text": [
      "[[54333 11851]\n",
      " [  675     3]]\n",
      "0.8126589093954713\n"
     ]
    }
   ],
   "source": [
    "#Importing Python Libraries\n",
    "import numpy as np\n",
    "import csv\n",
    "import ipaddress\n",
    "from sklearn.cluster import KMeans\n",
    "from sklearn.model_selection import train_test_split\n",
    "from sklearn.metrics import confusion_matrix\n",
    "from sklearn.metrics import accuracy_score\n",
    "\n",
    "#Pre-processing the dataset\n",
    "size = 0\n",
    "\n",
    "with open('D:/Downloads/AE1DS/GeneratedLabelledFlows/TrafficLabelling/Friday-WorkingHours-Morning.pcap_ISCX.csv', 'r', newline='') as read_obj, open('cicids2017_botnet.csv', 'w', newline='', encoding='utf8') as out_file:\n",
    "    #Pass the file object to reader() to get the reader object\n",
    "   \n",
    "    reader = csv.DictReader(read_obj)\n",
    "    writer = csv.DictWriter(out_file, fieldnames=reader.fieldnames)\n",
    "    writer.writeheader()  #For writing header\n",
    "    \n",
    "    #Iterate over each row in the csv using reader object\n",
    "    for row in reader:   \n",
    "        src_ip = ipaddress.ip_address(str(row[' Source IP']))    \n",
    "        row[' Source IP'] = int(src_ip)\n",
    "        \n",
    "        dst_ip = ipaddress.ip_address(str(row[' Destination IP']))\n",
    "        row[' Destination IP'] = int(dst_ip)\n",
    "        \n",
    "        writer.writerow(row)\n",
    "        \n",
    "        size = size + 1\n",
    "\n",
    "#Read processed file and put in NumPy array\n",
    "X = np.zeros((size,4), dtype=np.int64)\n",
    "Y = np.zeros(size, np.int32)\n",
    "\n",
    "indx = 0\n",
    "\n",
    "with open('cicids2017_botnet.csv', 'r', newline='') as read_obj:\n",
    "    #Pass the file object to reader() to get the reader object\n",
    "   \n",
    "    reader = csv.DictReader(read_obj)\n",
    "    \n",
    "    #Iterate over each row in the csv using reader object\n",
    "    for row in reader:\n",
    "\n",
    "        X[indx] = [row[' Source IP'], row[' Source Port'], row[' Destination IP'], row[' Destination Port']] \n",
    "        if row[' Label'] == 'BENIGN':\n",
    "            Y[indx] = 0\n",
    "        else:\n",
    "            Y[indx] = 1\n",
    "        indx = indx + 1\n",
    "\n",
    "#Splitting the Dataset for Train Test Split\n",
    "X_train, X_test, Y_train, Y_test = train_test_split(X, Y, test_size = 0.35)\n",
    "\n",
    "\n",
    "#Defining the classifier\n",
    "classifier = KMeans(n_clusters=2)\n",
    "classifier.fit(X_train, Y_train)\n",
    "\n",
    "#Predicting results\n",
    "y_pred = classifier.predict(X_test)\n",
    "\n",
    "#Evaluating the model\n",
    "cfmx = confusion_matrix(Y_test, y_pred)\n",
    "print(cfmx)\n",
    "print(accuracy_score(Y_test, y_pred))"
   ]
  },
  {
   "cell_type": "code",
   "execution_count": null,
   "metadata": {},
   "outputs": [],
   "source": []
  }
 ],
 "metadata": {
  "kernelspec": {
   "display_name": "Python 3",
   "language": "python",
   "name": "python3"
  },
  "language_info": {
   "codemirror_mode": {
    "name": "ipython",
    "version": 3
   },
   "file_extension": ".py",
   "mimetype": "text/x-python",
   "name": "python",
   "nbconvert_exporter": "python",
   "pygments_lexer": "ipython3",
   "version": "3.8.5"
  }
 },
 "nbformat": 4,
 "nbformat_minor": 4
}
