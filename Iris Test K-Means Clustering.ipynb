{
 "cells": [
  {
   "cell_type": "code",
   "execution_count": 4,
   "metadata": {},
   "outputs": [
    {
     "name": "stdout",
     "output_type": "stream",
     "text": [
      "[[ 0  0  0  0  0  0]\n",
      " [ 0  0  0  0  0  0]\n",
      " [ 0  0  0  0  0  0]\n",
      " [ 0 16  0  0  0  0]\n",
      " [14  0  1  0  0  0]\n",
      " [ 6  0 16  0  0  0]]\n",
      "0.0\n"
     ]
    }
   ],
   "source": [
    "#Importing Python Libraries\n",
    "import numpy as np\n",
    "import pandas as pd\n",
    "from sklearn.cluster import KMeans\n",
    "from sklearn.model_selection import train_test_split\n",
    "from sklearn.metrics import confusion_matrix\n",
    "from sklearn.metrics import accuracy_score\n",
    "\n",
    "#Importing the Dataset\n",
    "dataset = pd.read_csv('D:/Downloads/AE1DS/iris.csv')\n",
    "\n",
    "#Splitting the Dataset for Train Test Split\n",
    "X = dataset.iloc[:, 0:4]\n",
    "Y = dataset.iloc[:, 4]\n",
    "X_train, X_test, Y_train, Y_test = train_test_split(X, Y, test_size = 0.35)\n",
    "\n",
    "#Defining the classifier\n",
    "classifier = KMeans(n_clusters=3)\n",
    "classifier.fit(X_train, Y_train)\n",
    "\n",
    "#Predicting results\n",
    "y_pred = classifier.predict(X_test)\n",
    "\n",
    "#Evaluating the model\n",
    "cfmx = confusion_matrix(Y_test.astype(str), y_pred.astype(str))\n",
    "print(cfmx)\n",
    "print(accuracy_score(Y_test, y_pred))"
   ]
  },
  {
   "cell_type": "code",
   "execution_count": null,
   "metadata": {},
   "outputs": [],
   "source": []
  }
 ],
 "metadata": {
  "kernelspec": {
   "display_name": "Python 3",
   "language": "python",
   "name": "python3"
  },
  "language_info": {
   "codemirror_mode": {
    "name": "ipython",
    "version": 3
   },
   "file_extension": ".py",
   "mimetype": "text/x-python",
   "name": "python",
   "nbconvert_exporter": "python",
   "pygments_lexer": "ipython3",
   "version": "3.8.5"
  }
 },
 "nbformat": 4,
 "nbformat_minor": 4
}
